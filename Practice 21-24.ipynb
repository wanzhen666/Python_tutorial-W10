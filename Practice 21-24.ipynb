{
 "cells": [
  {
   "cell_type": "code",
   "execution_count": 1,
   "metadata": {},
   "outputs": [
    {
     "name": "stdout",
     "output_type": "stream",
     "text": [
      "命令行参数如下:\n",
      "D:\\Anaconda\\lib\\site-packages\\ipykernel_launcher.py\n",
      "-f\n",
      "C:\\Users\\23163\\AppData\\Roaming\\jupyter\\runtime\\kernel-0831ccfa-0f04-4781-8e2b-73965f3aa683.json\n",
      "\n",
      "\n",
      "Python 路径为： ['C:\\\\Users\\\\23163', 'D:\\\\Anaconda\\\\python37.zip', 'D:\\\\Anaconda\\\\DLLs', 'D:\\\\Anaconda\\\\lib', 'D:\\\\Anaconda', '', 'D:\\\\Anaconda\\\\lib\\\\site-packages', 'D:\\\\Anaconda\\\\lib\\\\site-packages\\\\win32', 'D:\\\\Anaconda\\\\lib\\\\site-packages\\\\win32\\\\lib', 'D:\\\\Anaconda\\\\lib\\\\site-packages\\\\Pythonwin', 'D:\\\\Anaconda\\\\lib\\\\site-packages\\\\IPython\\\\extensions', 'C:\\\\Users\\\\23163\\\\.ipython'] \n",
      "\n"
     ]
    }
   ],
   "source": [
    "#Python3 模块\n",
    "#!/usr/bin/python3\n",
    "# 文件名: using_sys.py\n",
    " \n",
    "import sys\n",
    " \n",
    "print('命令行参数如下:')\n",
    "for i in sys.argv:\n",
    "   print(i)\n",
    " \n",
    "print('\\n\\nPython 路径为：', sys.path, '\\n')"
   ]
  },
  {
   "cell_type": "code",
   "execution_count": 2,
   "metadata": {},
   "outputs": [
    {
     "ename": "SyntaxError",
     "evalue": "invalid syntax (<ipython-input-2-a05f233d0f23>, line 2)",
     "output_type": "error",
     "traceback": [
      "\u001b[1;36m  File \u001b[1;32m\"<ipython-input-2-a05f233d0f23>\"\u001b[1;36m, line \u001b[1;32m2\u001b[0m\n\u001b[1;33m    当解释器遇到 import 语句，如果模块在当前的搜索路径就会被导入。\u001b[0m\n\u001b[1;37m                ^\u001b[0m\n\u001b[1;31mSyntaxError\u001b[0m\u001b[1;31m:\u001b[0m invalid syntax\n"
     ]
    }
   ],
   "source": [
    "#import 语句\n",
    "当解释器遇到 import 语句，如果模块在当前的搜索路径就会被导入。\n",
    "\n",
    "搜索路径是一个解释器会先进行搜索的所有目录的列表。如想要导入模块 support，需要把命令放在脚本的顶端：\n",
    "\n",
    "support.py 文件代码\n",
    "#!/usr/bin/python3\n",
    "# Filename: support.py\n",
    " \n",
    "def print_func( par ):\n",
    "    print (\"Hello : \", par)\n",
    "    return\n",
    "test.py 引入 support 模块：\n",
    "\n",
    "test.py 文件代码\n",
    "#!/usr/bin/python3\n",
    "# Filename: test.py\n",
    " \n",
    "# 导入模块\n",
    "import support\n",
    " \n",
    "# 现在可以调用模块里包含的函数了\n",
    "support.print_func(\"Runoob\")\n",
    "以上实例输出结果：\n",
    "\n",
    "$ python3 test.py \n",
    "Hello :  Runoob"
   ]
  },
  {
   "cell_type": "code",
   "execution_count": null,
   "metadata": {},
   "outputs": [],
   "source": [
    "#from … import 语句\n",
    "#from fibo import fib, fib2\n",
    "#print(fib(500))"
   ]
  },
  {
   "cell_type": "code",
   "execution_count": 3,
   "metadata": {},
   "outputs": [
    {
     "name": "stdout",
     "output_type": "stream",
     "text": [
      "程序自身在运行\n"
     ]
    }
   ],
   "source": [
    "#__name__属性\n",
    "#!/usr/bin/python3\n",
    "# Filename: using_name.py\n",
    "\n",
    "if __name__ == '__main__':\n",
    "   print('程序自身在运行')\n",
    "else:\n",
    "   print('我来自另一模块')"
   ]
  },
  {
   "cell_type": "code",
   "execution_count": 4,
   "metadata": {},
   "outputs": [
    {
     "ename": "IndentationError",
     "evalue": "unexpected indent (<ipython-input-4-ddc21534764f>, line 4)",
     "output_type": "error",
     "traceback": [
      "\u001b[1;36m  File \u001b[1;32m\"<ipython-input-4-ddc21534764f>\"\u001b[1;36m, line \u001b[1;32m4\u001b[0m\n\u001b[1;33m    dir(fibo)\u001b[0m\n\u001b[1;37m    ^\u001b[0m\n\u001b[1;31mIndentationError\u001b[0m\u001b[1;31m:\u001b[0m unexpected indent\n"
     ]
    }
   ],
   "source": [
    "##dir() 函数\n",
    "#内置的函数 dir() 可以找到模块内定义的所有名称。以一个字符串列表的形式返回\n",
    "import fibo, sys\n",
    " dir(fibo)\n",
    " dir(sys)  \n"
   ]
  },
  {
   "cell_type": "code",
   "execution_count": 5,
   "metadata": {},
   "outputs": [
    {
     "ename": "IndentationError",
     "evalue": "unexpected indent (<ipython-input-5-87ca2126384e>, line 2)",
     "output_type": "error",
     "traceback": [
      "\u001b[1;36m  File \u001b[1;32m\"<ipython-input-5-87ca2126384e>\"\u001b[1;36m, line \u001b[1;32m2\u001b[0m\n\u001b[1;33m    import fibo\u001b[0m\n\u001b[1;37m    ^\u001b[0m\n\u001b[1;31mIndentationError\u001b[0m\u001b[1;31m:\u001b[0m unexpected indent\n"
     ]
    }
   ],
   "source": [
    "#如果没有给定参数，那么 dir() 函数会罗列出当前定义的所有名称:\n",
    " import fibo\n",
    " fib = fibo.fib\n",
    " dir() # 得到一个当前模块中定义的属性列表\n",
    "['__builtins__', '__name__', 'a', 'fib', 'fibo', 'sys']\n",
    " a = 5 # 建立一个新的变量 'a'\n",
    " dir()\n",
    "['__builtins__', '__doc__', '__name__', 'a', 'sys']\n",
    " del a # 删除变量名a\n",
    "\n",
    " dir()\n",
    "['__builtins__', '__doc__', '__name__', 'sys']\n"
   ]
  },
  {
   "cell_type": "code",
   "execution_count": 6,
   "metadata": {},
   "outputs": [
    {
     "ename": "IndentationError",
     "evalue": "unexpected indent (<ipython-input-6-3557197dfc14>, line 2)",
     "output_type": "error",
     "traceback": [
      "\u001b[1;36m  File \u001b[1;32m\"<ipython-input-6-3557197dfc14>\"\u001b[1;36m, line \u001b[1;32m2\u001b[0m\n\u001b[1;33m    import sys\u001b[0m\n\u001b[1;37m    ^\u001b[0m\n\u001b[1;31mIndentationError\u001b[0m\u001b[1;31m:\u001b[0m unexpected indent\n"
     ]
    }
   ],
   "source": [
    "#标准模块\n",
    " import sys\n",
    " sys.ps1\n",
    "\n",
    " sys.ps2\n",
    "\n",
    " sys.ps1 = 'C> '\n",
    " print('Runoob!')\n",
    "Runoob!\n",
    "C> "
   ]
  },
  {
   "cell_type": "code",
   "execution_count": 7,
   "metadata": {},
   "outputs": [
    {
     "ename": "IndentationError",
     "evalue": "unexpected indent (<ipython-input-7-48bce6f9b6d1>, line 4)",
     "output_type": "error",
     "traceback": [
      "\u001b[1;36m  File \u001b[1;32m\"<ipython-input-7-48bce6f9b6d1>\"\u001b[1;36m, line \u001b[1;32m4\u001b[0m\n\u001b[1;33m    __init__.py               初始化 sound 包\u001b[0m\n\u001b[1;37m    ^\u001b[0m\n\u001b[1;31mIndentationError\u001b[0m\u001b[1;31m:\u001b[0m unexpected indent\n"
     ]
    }
   ],
   "source": [
    "#包\n",
    "#包是一种管理 Python 模块命名空间的形式，采用\"点模块名称\"。\n",
    "sound/                          顶层包\n",
    "      __init__.py               初始化 sound 包\n",
    "      formats/                  文件格式转换子包\n",
    "              __init__.py\n",
    "              wavread.py\n",
    "              wavwrite.py\n",
    "              aiffread.py\n",
    "              aiffwrite.py\n",
    "              auread.py\n",
    "              auwrite.py\n",
    "              ...\n",
    "      effects/                  声音效果子包\n",
    "              __init__.py\n",
    "              echo.py\n",
    "              surround.py\n",
    "              reverse.py\n",
    "              ...\n",
    "      filters/                  filters 子包\n",
    "              __init__.py\n",
    "              equalizer.py\n",
    "              vocoder.py\n",
    "              karaoke.py\n",
    "              ..."
   ]
  },
  {
   "cell_type": "code",
   "execution_count": 8,
   "metadata": {},
   "outputs": [
    {
     "ename": "IndentationError",
     "evalue": "unexpected indent (<ipython-input-8-beedf75c370d>, line 6)",
     "output_type": "error",
     "traceback": [
      "\u001b[1;36m  File \u001b[1;32m\"<ipython-input-8-beedf75c370d>\"\u001b[1;36m, line \u001b[1;32m6\u001b[0m\n\u001b[1;33m    print(repr(s))\u001b[0m\n\u001b[1;37m    ^\u001b[0m\n\u001b[1;31mIndentationError\u001b[0m\u001b[1;31m:\u001b[0m unexpected indent\n"
     ]
    }
   ],
   "source": [
    "##Python3 输入和输出\n",
    "#输出格式美化\n",
    "s = 'Hello, Runoob'\n",
    "print(str(s))\n",
    "\n",
    " print(repr(s))"
   ]
  },
  {
   "cell_type": "code",
   "execution_count": 9,
   "metadata": {},
   "outputs": [
    {
     "name": "stdout",
     "output_type": "stream",
     "text": [
      " 1   1    1\n",
      " 2   4    8\n",
      " 3   9   27\n",
      " 4  16   64\n",
      " 5  25  125\n",
      " 6  36  216\n",
      " 7  49  343\n",
      " 8  64  512\n",
      " 9  81  729\n",
      "10 100 1000\n"
     ]
    }
   ],
   "source": [
    "#这里有两种方式输出一个平方与立方的表\n",
    "for x in range(1, 11):\n",
    "     print(repr(x).rjust(2), repr(x*x).rjust(3), end=' ')\n",
    "     # 注意前一行 'end' 的使用\n",
    "     print(repr(x*x*x).rjust(4))\n"
   ]
  },
  {
   "cell_type": "code",
   "execution_count": 10,
   "metadata": {},
   "outputs": [
    {
     "name": "stdout",
     "output_type": "stream",
     "text": [
      " 1   1    1\n",
      " 2   4    8\n",
      " 3   9   27\n",
      " 4  16   64\n",
      " 5  25  125\n",
      " 6  36  216\n",
      " 7  49  343\n",
      " 8  64  512\n",
      " 9  81  729\n",
      "10 100 1000\n"
     ]
    }
   ],
   "source": [
    "for x in range(1, 11):\n",
    "     print('{0:2d} {1:3d} {2:4d}'.format(x, x*x, x*x*x))\n",
    "\n"
   ]
  },
  {
   "cell_type": "code",
   "execution_count": 11,
   "metadata": {},
   "outputs": [
    {
     "name": "stdout",
     "output_type": "stream",
     "text": [
      "菜鸟教程网址： \"www.runoob.com!\"\n"
     ]
    }
   ],
   "source": [
    "#str.format() 的基本使用如下:\n",
    "print('{}网址： \"{}!\"'.format('菜鸟教程', 'www.runoob.com'))\n"
   ]
  },
  {
   "cell_type": "code",
   "execution_count": 12,
   "metadata": {},
   "outputs": [
    {
     "name": "stdout",
     "output_type": "stream",
     "text": [
      "Google 和 Runoob\n",
      "Runoob 和 Google\n"
     ]
    }
   ],
   "source": [
    "#括号及其里面的字符 (称作格式化字段) 将会被 format() 中的参数替换。\n",
    "\n",
    "#在括号中的数字用于指向传入对象在 format() 中的位置，如下所示：\n",
    "print('{0} 和 {1}'.format('Google', 'Runoob'))\n",
    "\n",
    "print('{1} 和 {0}'.format('Google', 'Runoob'))\n"
   ]
  },
  {
   "cell_type": "code",
   "execution_count": 13,
   "metadata": {},
   "outputs": [
    {
     "name": "stdout",
     "output_type": "stream",
     "text": [
      "菜鸟教程网址： www.runoob.com\n"
     ]
    }
   ],
   "source": [
    "#如果在 format() 中使用了关键字参数, 那么它们的值会指向使用该名字的参数。\n",
    "print('{name}网址： {site}'.format(name='菜鸟教程', site='www.runoob.com'))"
   ]
  },
  {
   "cell_type": "code",
   "execution_count": 14,
   "metadata": {},
   "outputs": [
    {
     "name": "stdout",
     "output_type": "stream",
     "text": [
      "站点列表 Google, Runoob, 和 Taobao。\n"
     ]
    }
   ],
   "source": [
    "print('站点列表 {0}, {1}, 和 {other}。'.format('Google', 'Runoob', other='Taobao'))#位置及关键字参数可以任意的结合:"
   ]
  },
  {
   "cell_type": "code",
   "execution_count": 15,
   "metadata": {},
   "outputs": [
    {
     "name": "stdout",
     "output_type": "stream",
     "text": [
      "常量 PI 的值近似为： 3.141592653589793。\n",
      "常量 PI 的值近似为： 3.141592653589793。\n"
     ]
    }
   ],
   "source": [
    "#!a (使用 ascii()), !s (使用 str()) 和 !r (使用 repr()) 可以用于在格式化某个值之前对其进行转化:\n",
    "import math\n",
    "print('常量 PI 的值近似为： {}。'.format(math.pi))\n",
    "\n",
    "print('常量 PI 的值近似为： {!r}。'.format(math.pi))\n"
   ]
  },
  {
   "cell_type": "code",
   "execution_count": 16,
   "metadata": {},
   "outputs": [
    {
     "name": "stdout",
     "output_type": "stream",
     "text": [
      "常量 PI 的值近似为 3.142。\n"
     ]
    }
   ],
   "source": [
    "#可选项 : 和格式标识符可以跟着字段名。 这就允许对值进行更好的格式化。 下面的例子将 Pi 保留到小数点后三位：\n",
    "import math\n",
    "print('常量 PI 的值近似为 {0:.3f}。'.format(math.pi))"
   ]
  },
  {
   "cell_type": "code",
   "execution_count": 17,
   "metadata": {},
   "outputs": [
    {
     "name": "stdout",
     "output_type": "stream",
     "text": [
      "Google     ==>          1\n",
      "Runoob     ==>          2\n",
      "Taobao     ==>          3\n"
     ]
    }
   ],
   "source": [
    "#在 : 后传入一个整数, 可以保证该域至少有这么多的宽度。 用于美化表格时很有用。\n",
    "table = {'Google': 1, 'Runoob': 2, 'Taobao': 3}\n",
    "for name, number in table.items():\n",
    "     print('{0:10} ==> {1:10d}'.format(name, number))\n",
    "\n"
   ]
  },
  {
   "cell_type": "code",
   "execution_count": 18,
   "metadata": {},
   "outputs": [
    {
     "name": "stdout",
     "output_type": "stream",
     "text": [
      "Runoob: 2; Google: 1; Taobao: 3\n"
     ]
    }
   ],
   "source": [
    "#最简单的就是传入一个字典, 然后使用方括号 [] 来访问键值 :\n",
    "table = {'Google': 1, 'Runoob': 2, 'Taobao': 3}\n",
    "print('Runoob: {0[Runoob]:d}; Google: {0[Google]:d}; Taobao: {0[Taobao]:d}'.format(table))"
   ]
  },
  {
   "cell_type": "code",
   "execution_count": 19,
   "metadata": {},
   "outputs": [
    {
     "name": "stdout",
     "output_type": "stream",
     "text": [
      "Runoob: 2; Google: 1; Taobao: 3\n"
     ]
    }
   ],
   "source": [
    "#也可以通过在 table 变量前使用 ** 来实现相同的功能：\n",
    "table = {'Google': 1, 'Runoob': 2, 'Taobao': 3}\n",
    "print('Runoob: {Runoob:d}; Google: {Google:d}; Taobao: {Taobao:d}'.format(**table))"
   ]
  },
  {
   "cell_type": "code",
   "execution_count": 20,
   "metadata": {},
   "outputs": [
    {
     "name": "stdout",
     "output_type": "stream",
     "text": [
      "常量 PI 的值近似为：3.142。\n"
     ]
    }
   ],
   "source": [
    "#旧式字符串格式化\n",
    "#% 操作符也可以实现字符串格式化。 它将左边的参数作为类似 sprintf() 式的格式化字符串, 而将右边的代入, 然后返回格式化后的字符串. 例如:\n",
    "import math\n",
    "print('常量 PI 的值近似为：%5.3f。' % math.pi)"
   ]
  },
  {
   "cell_type": "code",
   "execution_count": null,
   "metadata": {},
   "outputs": [],
   "source": [
    "#读和写文件\n",
    "#!/usr/bin/python3\n",
    "\n",
    "# 打开一个文件\n",
    "f = open(\"a.txt\", \"w\")\n",
    "\n",
    "f.write( \"Python 是一个非常好的语言。\\n是的，的确非常好!!\\n\" )\n",
    "\n",
    "# 关闭打开的文件\n",
    "f.close()"
   ]
  },
  {
   "cell_type": "code",
   "execution_count": 21,
   "metadata": {},
   "outputs": [
    {
     "name": "stdout",
     "output_type": "stream",
     "text": [
      "请输入：广域网\n",
      "你输入的内容是:  广域网\n"
     ]
    }
   ],
   "source": [
    "#!/usr/bin/python3\n",
    "\n",
    "str = input(\"请输入：\");\n",
    "print (\"你输入的内容是: \",str)"
   ]
  },
  {
   "cell_type": "code",
   "execution_count": 22,
   "metadata": {},
   "outputs": [
    {
     "name": "stdout",
     "output_type": "stream",
     "text": [
      "Python 是一个非常好的语言。\n",
      "是的，的确非常好!!\n",
      "\n"
     ]
    }
   ],
   "source": [
    "#文件对象的方法\n",
    "#f.read()方法\n",
    "#!/usr/bin/python3\n",
    "\n",
    "# 打开一个文件\n",
    "f = open(\"a.txt\", \"r\")\n",
    "\n",
    "str = f.read()\n",
    "print(str)\n",
    "\n",
    "# 关闭打开的文件\n",
    "f.close()"
   ]
  },
  {
   "cell_type": "code",
   "execution_count": 23,
   "metadata": {},
   "outputs": [
    {
     "name": "stdout",
     "output_type": "stream",
     "text": [
      "Python 是一个非常好的语言。\n",
      "\n"
     ]
    }
   ],
   "source": [
    "#f.readline()方法\n",
    "#!/usr/bin/python3\n",
    "\n",
    "# 打开一个文件\n",
    "f = open(\"a.txt\", \"r\")\n",
    "\n",
    "str = f.readline()\n",
    "print(str)\n",
    "\n",
    "# 关闭打开的文件\n",
    "f.close()"
   ]
  },
  {
   "cell_type": "code",
   "execution_count": 24,
   "metadata": {},
   "outputs": [
    {
     "name": "stdout",
     "output_type": "stream",
     "text": [
      "['Python 是一个非常好的语言。\\n', '是的，的确非常好!!\\n']\n"
     ]
    }
   ],
   "source": [
    "#f.readlines()方法\n",
    "#!/usr/bin/python3\n",
    "\n",
    "# 打开一个文件\n",
    "f = open(\"a.txt\", \"r\")\n",
    "\n",
    "str = f.readlines()\n",
    "print(str)\n",
    "\n",
    "# 关闭打开的文件\n",
    "f.close()"
   ]
  },
  {
   "cell_type": "code",
   "execution_count": 25,
   "metadata": {},
   "outputs": [
    {
     "name": "stdout",
     "output_type": "stream",
     "text": [
      "Python 是一个非常好的语言。\n",
      "是的，的确非常好!!\n"
     ]
    }
   ],
   "source": [
    "#!/usr/bin/python3\n",
    "\n",
    "# 打开一个文件\n",
    "f = open(\"a.txt\", \"r\")\n",
    "\n",
    "for line in f:\n",
    "    print(line, end='')\n",
    "\n",
    "# 关闭打开的文件\n",
    "f.close()"
   ]
  },
  {
   "cell_type": "code",
   "execution_count": 26,
   "metadata": {},
   "outputs": [
    {
     "name": "stdout",
     "output_type": "stream",
     "text": [
      "29\n"
     ]
    }
   ],
   "source": [
    "#f.write()方法\n",
    "#!/usr/bin/python3\n",
    "\n",
    "# 打开一个文件\n",
    "f = open(\"a.txt\", \"w\")\n",
    "\n",
    "num = f.write( \"Python 是一个非常好的语言。\\n是的，的确非常好!!\\n\" )\n",
    "print(num)\n",
    "\n"
   ]
  },
  {
   "cell_type": "code",
   "execution_count": null,
   "metadata": {},
   "outputs": [],
   "source": [
    "#f.seek()方法\n"
   ]
  },
  {
   "cell_type": "code",
   "execution_count": null,
   "metadata": {},
   "outputs": [],
   "source": [
    "#f.close()方法\n",
    ">>> f.close()\n",
    ">>> f.read()\n",
    "Traceback (most recent call last):\n",
    "  File \"<stdin>\", line 1, in ?\n",
    "ValueError: I/O operation on closed file\n",
    "#当处理一个文件对象时, 使用 with 关键字是非常好的方式。在结束后, 它会帮你正确的关闭文件。 而且写起来也比 try - finally 语句块要简短:\n",
    ">>> with open('/tmp/foo.txt', 'r') as f:\n",
    "...     read_data = f.read()\n",
    ">>> f.closed\n",
    "True\n"
   ]
  },
  {
   "cell_type": "code",
   "execution_count": null,
   "metadata": {},
   "outputs": [],
   "source": [
    "#pickle 模块\n",
    "#file: 类文件对象，有read()和readline()接口\n",
    "#!/usr/bin/python3\n",
    "import pickle\n",
    "\n",
    "# 使用pickle模块将数据对象保存到文件\n",
    "data1 = {'a': [1, 2.0, 3, 4+6j],\n",
    "         'b': ('string', u'Unicode string'),\n",
    "         'c': None}\n",
    "\n",
    "selfref_list = [1, 2, 3]\n",
    "selfref_list.append(selfref_list)\n",
    "\n",
    "output = open('data.pkl', 'wb')\n",
    "\n",
    "# Pickle dictionary using protocol 0.\n",
    "pickle.dump(data1, output)\n",
    "\n",
    "# Pickle the list using the highest protocol available.\n",
    "pickle.dump(selfref_list, output, -1)\n",
    "\n",
    "output.close()"
   ]
  },
  {
   "cell_type": "code",
   "execution_count": null,
   "metadata": {},
   "outputs": [],
   "source": [
    "#!/usr/bin/python3\n",
    "import pprint, pickle\n",
    "\n",
    "#使用pickle模块从文件中重构python对象\n",
    "pkl_file = open('data.pkl', 'rb')\n",
    "\n",
    "data1 = pickle.load(pkl_file)\n",
    "pprint.pprint(data1)\n",
    "\n",
    "data2 = pickle.load(pkl_file)\n",
    "pprint.pprint(data2)\n",
    "\n",
    "pkl_file.close()"
   ]
  },
  {
   "cell_type": "code",
   "execution_count": null,
   "metadata": {},
   "outputs": [],
   "source": [
    "##Python3 File(文件) 方法\n",
    "open() 函数常用形式是接收两个参数：文件名(file)和模式(mode)。\n",
    "\n",
    "open(file, mode='r')\n",
    "完整的语法格式为：\n",
    "\n",
    "open(file, mode='r', buffering=-1, encoding=None, errors=None, newline=None, closefd=True, opener=None)"
   ]
  },
  {
   "cell_type": "code",
   "execution_count": null,
   "metadata": {},
   "outputs": [],
   "source": [
    "#Python3 OS 文件/目录方法\n",
    "os 模块提供了非常丰富的方法用来处理文件和目录。"
   ]
  }
 ],
 "metadata": {
  "kernelspec": {
   "display_name": "Python 3",
   "language": "python",
   "name": "python3"
  },
  "language_info": {
   "codemirror_mode": {
    "name": "ipython",
    "version": 3
   },
   "file_extension": ".py",
   "mimetype": "text/x-python",
   "name": "python",
   "nbconvert_exporter": "python",
   "pygments_lexer": "ipython3",
   "version": "3.7.4"
  }
 },
 "nbformat": 4,
 "nbformat_minor": 2
}
